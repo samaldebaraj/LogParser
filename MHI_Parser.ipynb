{
 "cells": [
  {
   "cell_type": "code",
   "execution_count": 1,
   "metadata": {},
   "outputs": [],
   "source": [
    "#***Debaraj***\n",
    "#Execute from this first and run all blocks below in sequence\n",
    "import re\n",
    "import pandas as pd\n",
    "import pandas.io.sql as psql\n",
    "from pandas import ExcelWriter\n",
    "import cx_Oracle\n",
    "from bokeh.plotting import figure,output_file, save\n",
    "from bokeh.io import show, output_notebook\n",
    "from bokeh.models import Legend, LegendItem, DatetimeTickFormatter, SingleIntervalTicker,ColumnDataSource,HoverTool,LabelSet\n",
    "from bokeh.models.tools import CustomJSHover\n",
    "import seaborn as sns\n",
    "from matplotlib import pyplot as plt\n",
    "import numpy as np"
   ]
  },
  {
   "cell_type": "code",
   "execution_count": 2,
   "metadata": {},
   "outputs": [],
   "source": [
    "pd.options.mode.chained_assignment = None"
   ]
  },
  {
   "cell_type": "code",
   "execution_count": 3,
   "metadata": {},
   "outputs": [],
   "source": [
    "#***Debaraj***\n",
    "# Change 'time' to MHI Log Date.\n",
    "# Change log file name\n",
    "re_exp = re.compile(r'^[-+]?([0-9]{2,3}\\d*|0)')\n",
    "re_exp_dt = re.compile(r'\\d{4}-\\d?\\d-\\d?\\d (?:2[0-3]|[01]?[0-9]):[0-5]?[0-9]:[0-5]?[0-9]')\n",
    "sdata = []\n",
    "ndata = []\n",
    "tData = []\n",
    "time = '2019-02-27 00:00:00'\n",
    "with open('fce_mhi_27.log','r') as file:\n",
    "    for line in file:\n",
    "        if(re_exp_dt.search(line)):            \n",
    "            time = re_exp_dt.search(line).group()        \n",
    "        if(re_exp.search(line)):\n",
    "            node = line[-6:-3]\n",
    "            ndata.append(node)\n",
    "            sdata.append(re_exp.search(line).group())\n",
    "            tData.append(time)\n",
    "            \n",
    "            \n",
    "df = pd.DataFrame()\n",
    "df['Bytes'] = sdata\n",
    "df['Node'] = ndata\n",
    "df['TimeStamp'] = tData"
   ]
  },
  {
   "cell_type": "code",
   "execution_count": 4,
   "metadata": {},
   "outputs": [],
   "source": [
    "df['Class'] = np.where((df['Bytes'] != '12') & (df['Bytes'] != '467') & (df['Bytes'] != '97'), 'Not Normal', 'Normal')"
   ]
  },
  {
   "cell_type": "code",
   "execution_count": 5,
   "metadata": {},
   "outputs": [],
   "source": [
    "df_Alive = df[df['Bytes'].astype(int)<97]\n",
    "df_Telg_Pre = df[(df['Bytes'].astype(int)>=97) & (df['Bytes'].astype(int)<467)]\n",
    "df_Telg_Pst = df[df['Bytes'].astype(int)>=467]\n",
    "dfa_C1 = df_Alive[df_Alive['Node']=='CC1']\n",
    "dfpre_C1 = df_Telg_Pre[df_Telg_Pre['Node']=='CC1']\n",
    "dfpst_C1 = df_Telg_Pst[df_Telg_Pst['Node']=='CC1']"
   ]
  },
  {
   "cell_type": "code",
   "execution_count": 6,
   "metadata": {},
   "outputs": [],
   "source": [
    "dfa_C1['TimeStamp'] = pd.to_datetime(dfa_C1['TimeStamp'])\n",
    "dfpre_C1['TimeStamp'] = pd.to_datetime(dfpre_C1['TimeStamp'])\n",
    "dfpst_C1['TimeStamp'] = pd.to_datetime(dfpst_C1['TimeStamp'])"
   ]
  },
  {
   "cell_type": "code",
   "execution_count": 7,
   "metadata": {},
   "outputs": [],
   "source": [
    "output_file(\"C1_Alive_\"+ time[0:10] + \".html\")\n",
    "p = figure(plot_width=1200, plot_height=600,x_axis_type='datetime')\n",
    "p.yaxis.axis_label = 'Packet Size (Bytes)'\n",
    "p.title.text = 'Caster 1 Alive Message : '+ time[0:10]\n",
    "p.xaxis.formatter=DatetimeTickFormatter(hours=[\"%H:%M\"],minutes=[\"%H:%M\"])\n",
    "p.line(x = 'TimeStamp',y = 'Bytes', source = dfa_C1)\n",
    "show(p)"
   ]
  },
  {
   "cell_type": "code",
   "execution_count": 8,
   "metadata": {},
   "outputs": [],
   "source": [
    "output_file(\"C1_PRE_\"+ time[0:10] + \".html\")\n",
    "p = figure(plot_width=1200, plot_height=600,x_axis_type='datetime')\n",
    "p.yaxis.axis_label = 'Packet Size (Bytes)'\n",
    "p.y_range.start = 90\n",
    "p.y_range.end = 150\n",
    "p.title.text = 'Caster 1 Pre-Report : '+ time[0:10]\n",
    "p.xaxis.formatter=DatetimeTickFormatter(hours=[\"%H:%M\"],minutes=[\"%H:%M\"])\n",
    "p.line(x = 'TimeStamp',y = 'Bytes', source = dfpre_C1)\n",
    "show(p)"
   ]
  },
  {
   "cell_type": "code",
   "execution_count": 9,
   "metadata": {},
   "outputs": [],
   "source": [
    "output_file(\"C1_POST_\"+ time[0:10] + \".html\")\n",
    "p = figure(plot_width=1200, plot_height=600,x_axis_type='datetime')\n",
    "p.yaxis.axis_label = 'Packet Size (Bytes)'\n",
    "p.title.text = 'Caster 1 Post Report : '+ time[0:10]\n",
    "p.xaxis.formatter=DatetimeTickFormatter(hours=[\"%H:%M\"],minutes=[\"%H:%M\"])\n",
    "p.line(x = 'TimeStamp',y = 'Bytes', source = dfpst_C1)\n",
    "show(p)"
   ]
  },
  {
   "cell_type": "code",
   "execution_count": 10,
   "metadata": {},
   "outputs": [],
   "source": [
    "dfa_C2 = df_Alive[df_Alive['Node']=='CC2']\n",
    "dfpre_C2 = df_Telg_Pre[df_Telg_Pre['Node']=='CC2']\n",
    "dfpst_C2 = df_Telg_Pst[df_Telg_Pst['Node']=='CC2']"
   ]
  },
  {
   "cell_type": "code",
   "execution_count": 11,
   "metadata": {},
   "outputs": [],
   "source": [
    "dfa_C2['TimeStamp'] = pd.to_datetime(dfa_C2['TimeStamp'])\n",
    "dfpre_C2['TimeStamp'] = pd.to_datetime(dfpre_C2['TimeStamp'])\n",
    "dfpst_C2['TimeStamp'] = pd.to_datetime(dfpst_C2['TimeStamp'])"
   ]
  },
  {
   "cell_type": "code",
   "execution_count": 12,
   "metadata": {},
   "outputs": [],
   "source": [
    "output_file(\"C2_Alive_\"+ time[0:10] + \".html\")\n",
    "p = figure(plot_width=1200, plot_height=600,x_axis_type='datetime')\n",
    "p.yaxis.axis_label = 'Packet Size (Bytes)'\n",
    "p.title.text = 'Caster 2 Alive Message : '+ time[0:10]\n",
    "p.xaxis.formatter=DatetimeTickFormatter(hours=[\"%H:%M\"],minutes=[\"%H:%M\"])\n",
    "p.line(x = 'TimeStamp',y = 'Bytes', source = dfa_C2)\n",
    "show(p)"
   ]
  },
  {
   "cell_type": "code",
   "execution_count": 13,
   "metadata": {},
   "outputs": [],
   "source": [
    "output_file(\"C2_PRE_\"+ time[0:10] + \".html\")\n",
    "p = figure(plot_width=1200, plot_height=600,x_axis_type='datetime')\n",
    "p.yaxis.axis_label = 'Packet Size (Bytes)'\n",
    "p.y_range.start = 90\n",
    "p.y_range.end = 130\n",
    "p.title.text = 'Caster 2 Pre-Report : '+ time[0:10]\n",
    "p.xaxis.formatter=DatetimeTickFormatter(hours=[\"%H:%M\"],minutes=[\"%H:%M\"])\n",
    "p.line(x = 'TimeStamp',y = 'Bytes', source = dfpre_C2)\n",
    "show(p)"
   ]
  },
  {
   "cell_type": "code",
   "execution_count": 14,
   "metadata": {},
   "outputs": [],
   "source": [
    "output_file(\"C2_POST_\"+ time[0:10] + \".html\")\n",
    "p = figure(plot_width=1200, plot_height=600,x_axis_type='datetime')\n",
    "p.yaxis.axis_label = 'Packet Size (Bytes)'\n",
    "p.title.text = 'Caster 2 Post Report : '+ time[0:10]\n",
    "p.xaxis.formatter=DatetimeTickFormatter(hours=[\"%H:%M\"],minutes=[\"%H:%M\"])\n",
    "p.line(x = 'TimeStamp',y = 'Bytes', source = dfpst_C2)\n",
    "show(p)"
   ]
  },
  {
   "cell_type": "code",
   "execution_count": 15,
   "metadata": {},
   "outputs": [],
   "source": [
    "df_MSC = df_Alive[df_Alive['Node']=='MSC']\n",
    "df_MSC['TimeStamp'] = pd.to_datetime(df_MSC['TimeStamp'])"
   ]
  },
  {
   "cell_type": "code",
   "execution_count": 16,
   "metadata": {},
   "outputs": [],
   "source": [
    "output_file(\"MSC_\"+ time[0:10] + \".html\")\n",
    "p = figure(plot_width=1200, plot_height=600,x_axis_type='datetime')\n",
    "p.yaxis.axis_label = 'Packet Size (Bytes)'\n",
    "p.title.text = 'MSC Telegram : '+ time[0:10]\n",
    "p.xaxis.formatter=DatetimeTickFormatter(hours=[\"%H:%M\"],minutes=[\"%H:%M\"])\n",
    "p.line(x = 'TimeStamp',y = 'Bytes', source = df_MSC)\n",
    "show(p)"
   ]
  }
 ],
 "metadata": {
  "kernelspec": {
   "display_name": "Python 3",
   "language": "python",
   "name": "python3"
  },
  "language_info": {
   "codemirror_mode": {
    "name": "ipython",
    "version": 3
   },
   "file_extension": ".py",
   "mimetype": "text/x-python",
   "name": "python",
   "nbconvert_exporter": "python",
   "pygments_lexer": "ipython3",
   "version": "3.7.4"
  }
 },
 "nbformat": 4,
 "nbformat_minor": 2
}
